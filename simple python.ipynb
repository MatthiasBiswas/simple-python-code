{
    "cells": [
        {
            "cell_type": "markdown",
            "metadata": {
                "collapsed": true
            },
            "source": "# simple python code\n"
        },
        {
            "cell_type": "code",
            "execution_count": 1,
            "metadata": {},
            "outputs": [
                {
                    "name": "stdout",
                    "output_type": "stream",
                    "text": "Welcome Matthias!!!\n"
                }
            ],
            "source": "def greeting(name):\n    print(\"Welcome \"+name)\nresult = greeting(\"Matthias!!!\")"
        },
        {
            "cell_type": "code",
            "execution_count": 2,
            "metadata": {},
            "outputs": [
                {
                    "name": "stdout",
                    "output_type": "stream",
                    "text": "the area is: 34.0\n"
                }
            ],
            "source": "# area of a triangle\n\ndef area_triangle(base, height):\n    return (base * height)/2\n\narea_a = area_triangle(7,2)\narea_b = area_triangle(9,6)\narea_sum = area_a + area_b\nprint(\"the area is: \" + str(area_sum))"
        },
        {
            "cell_type": "code",
            "execution_count": 3,
            "metadata": {},
            "outputs": [
                {
                    "name": "stdout",
                    "output_type": "stream",
                    "text": "hours: 1 \nminutes: 23 \nseconds: 20\n"
                }
            ],
            "source": "# convert seconds\n\ndef convert_seconds(seconds):\n    hours = seconds // 3600\n    minutes = (seconds - hours * 3600) // 60\n    remaining_seconds = seconds - hours * 3600 - minutes * 60\n    return hours, minutes, remaining_seconds\n\nhours, minutes, seconds = convert_seconds(5000)\nprint(\"hours: \"+str(hours), \"\\nminutes: \"+str(minutes), \"\\nseconds: \"+str(seconds))"
        },
        {
            "cell_type": "code",
            "execution_count": 5,
            "metadata": {},
            "outputs": [
                {
                    "name": "stdout",
                    "output_type": "stream",
                    "text": "June has 30 days.\nJuly has 31 days.\n"
                }
            ],
            "source": "# Months and Days\n\ndef month_days(month, days):\n    result = f\"{month} has {days} days.\"\n    return (result)\nprint (month_days(\"June\", 30))\nprint (month_days(\"July\", 31))"
        },
        {
            "cell_type": "code",
            "execution_count": 7,
            "metadata": {},
            "outputs": [
                {
                    "name": "stdout",
                    "output_type": "stream",
                    "text": "201.0624\n"
                }
            ],
            "source": "# defining area of circle\n\ndef circle_area(radius):\n    pi = 3.1416\n    area = pi * (radius ** 2)\n    print(area)\ncircle_area(8)"
        },
        {
            "cell_type": "code",
            "execution_count": 9,
            "metadata": {},
            "outputs": [
                {
                    "name": "stdout",
                    "output_type": "stream",
                    "text": "The area is 30\n"
                }
            ],
            "source": "#defineing area of rectangle\n\ndef rectangle_area(base, height):\n    area = base*height  # the area is base*height\n    print(\"The area is \" + str(area))\nrectangle_area(5,6)"
        },
        {
            "cell_type": "code",
            "execution_count": 10,
            "metadata": {},
            "outputs": [
                {
                    "name": "stdout",
                    "output_type": "stream",
                    "text": "Each person needs to pay: 27.186\n"
                }
            ],
            "source": "#In this scenario, two friends are eating dinner at a restaurant.\n#The bill comes in the amount of 47.28 dollars.\n#The friends decide to split the bill evenly between them, after adding 15% tip for the service.\n#Calculate the tip, the total amount to pay, and each friend's share, then output a message saying \"Each person needs to pay: \" followed by the resulting number.\n\nbill = 47.28\ntip = bill * (15/100)\ntotal = bill + tip\nshare = total/2 \nprint(\"Each person needs to pay: \"+str(share))"
        },
        {
            "cell_type": "code",
            "execution_count": 2,
            "metadata": {},
            "outputs": [
                {
                    "name": "stdout",
                    "output_type": "stream",
                    "text": "Welcome back Taylor!\nHello there, John\n"
                }
            ],
            "source": "#Defining function with if elif else\n\ndef greeting(name):\n  if name == \"Taylor\":\n    return \"Welcome back Taylor!\"\n  else:\n    return \"Hello there, \" + name\n\nprint(greeting(\"Taylor\"))\nprint(greeting(\"John\"))"
        },
        {
            "cell_type": "code",
            "execution_count": 4,
            "metadata": {},
            "outputs": [
                {
                    "name": "stdout",
                    "output_type": "stream",
                    "text": "4096\n4096\n8192\n8192\n"
                }
            ],
            "source": "# If a filesystem has a block size of 4096 bytes, \n# this means that a file comprised of only one byte will still use 4096 bytes of storage. \n# A file made up of 4097 bytes will use 4096*2=8192 bytes of storage. \n# Knowing this, can you fill in the gaps in the calculate_storage function below, which calculates the total number of bytes needed to store a file of a given size?\n\ndef calculate_storage(filesize):\n    block_size = 4096\n    # Use floor division to calculate how many blocks are fully occupied\n    full_blocks = filesize // block_size\n    # Use the modulo operator to check whether there's any remainder\n    partial_block_remainder = filesize % block_size\n    # Depending on whether there's a remainder or not, return\n    # the total number of bytes required to allocate enough blocks\n    # to store your data.\n    if partial_block_remainder > 0:\n        return (full_blocks + 1) * block_size\n    return filesize\n\nprint(calculate_storage(1))    # Should be 4096\nprint(calculate_storage(4096)) # Should be 4096\nprint(calculate_storage(4097)) # Should be 8192\nprint(calculate_storage(6000)) # Should be 8192"
        },
        {
            "cell_type": "code",
            "execution_count": 5,
            "metadata": {},
            "outputs": [
                {
                    "name": "stdout",
                    "output_type": "stream",
                    "text": "The distance in kilometers is 88.0\nThe round-trip in kilometers is 176.0\n"
                }
            ],
            "source": "#Problem: This function converts miles to kilometers (km).\n\n#1. Complete the function to return the result of the conversion\n#2. Call the function to convert the trip distance from miles to kilometers\n#3. Fill in the blank to print the result of the conversion\n#4. Calculate the round-trip in kilometers by doubling the result, and fill in the blank to print the result\n\n# 1) Complete the function to return the result of the conversion\ndef convert_distance(miles):\n\tkm = miles * 1.6  # approximately 1.6 km in 1 mile\n\treturn km\n\nmy_trip_miles = 55\n\n# 2) Convert my_trip_miles to kilometers by calling the function above\nmy_trip_km = convert_distance(my_trip_miles)\n\n# 3) Fill in the blank to print the result of the conversion\nprint(\"The distance in kilometers is \" + str(my_trip_km))\n\n# 4) Calculate the round-trip in kilometers by doubling the result,\n#    and fill in the blank to print the result\nprint(\"The round-trip in kilometers is \" + str(2.0*my_trip_km))"
        },
        {
            "cell_type": "code",
            "execution_count": 2,
            "metadata": {},
            "outputs": [
                {
                    "name": "stdout",
                    "output_type": "stream",
                    "text": "99 100\n"
                }
            ],
            "source": "#This function compares two numbers and returns them in increasing order.\n\n#Fill in the blanks, so the print statement displays the result of the function call in order.\n#Hint: if a function returns multiple values, don't forget to store these values in multiple variables\n\ndef order_numbers(number1, number2):\n\tif number2 > number1:\n\t\treturn number1, number2\n\telse:\n\t\treturn number2, number1\n\n# 1) Fill in the blanks so the print statement displays the result\n#    of the function call\nsmaller, bigger = order_numbers(100, 99)\nprint(smaller, bigger)"
        },
        {
            "cell_type": "code",
            "execution_count": 4,
            "metadata": {},
            "outputs": [
                {
                    "name": "stdout",
                    "output_type": "stream",
                    "text": "Hello Kay. Your lucky number is 27\nHello Cameron. Your lucky number is 63\n"
                }
            ],
            "source": "#Let's revisit our lucky_number function. We want to change it, so that instead of printing the message, it returns the message. This way, the calling line can print the message, or do something else with it if needed. Fill in the blanks to complete the code to make it work.\n\ndef lucky_number(name):\n  number = len(name) * 9\n  message = \"Hello \" + name + \". Your lucky number is \" + str(number)\n  return message   \nprint(lucky_number(\"Kay\"))\nprint(lucky_number(\"Cameron\"))"
        }
    ],
    "metadata": {
        "kernelspec": {
            "display_name": "Python 3.6",
            "language": "python",
            "name": "python3"
        },
        "language_info": {
            "codemirror_mode": {
                "name": "ipython",
                "version": 3
            },
            "file_extension": ".py",
            "mimetype": "text/x-python",
            "name": "python",
            "nbconvert_exporter": "python",
            "pygments_lexer": "ipython3",
            "version": "3.6.9"
        }
    },
    "nbformat": 4,
    "nbformat_minor": 1
}