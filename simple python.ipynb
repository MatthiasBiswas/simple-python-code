{
    "cells": [
        {
            "cell_type": "markdown",
            "metadata": {
                "collapsed": true
            },
            "source": "# simple python code\n"
        },
        {
            "cell_type": "code",
            "execution_count": 1,
            "metadata": {},
            "outputs": [
                {
                    "name": "stdout",
                    "output_type": "stream",
                    "text": "Welcome Matthias!!!\n"
                }
            ],
            "source": "def greeting(name):\n    print(\"Welcome \"+name)\nresult = greeting(\"Matthias!!!\")"
        },
        {
            "cell_type": "code",
            "execution_count": 2,
            "metadata": {},
            "outputs": [
                {
                    "name": "stdout",
                    "output_type": "stream",
                    "text": "the area is: 34.0\n"
                }
            ],
            "source": "# area of a triangle\n\ndef area_triangle(base, height):\n    return (base * height)/2\n\narea_a = area_triangle(7,2)\narea_b = area_triangle(9,6)\narea_sum = area_a + area_b\nprint(\"the area is: \" + str(area_sum))"
        },
        {
            "cell_type": "code",
            "execution_count": 3,
            "metadata": {},
            "outputs": [
                {
                    "name": "stdout",
                    "output_type": "stream",
                    "text": "hours: 1 \nminutes: 23 \nseconds: 20\n"
                }
            ],
            "source": "# convert seconds\n\ndef convert_seconds(seconds):\n    hours = seconds // 3600\n    minutes = (seconds - hours * 3600) // 60\n    remaining_seconds = seconds - hours * 3600 - minutes * 60\n    return hours, minutes, remaining_seconds\n\nhours, minutes, seconds = convert_seconds(5000)\nprint(\"hours: \"+str(hours), \"\\nminutes: \"+str(minutes), \"\\nseconds: \"+str(seconds))"
        },
        {
            "cell_type": "code",
            "execution_count": 5,
            "metadata": {},
            "outputs": [
                {
                    "name": "stdout",
                    "output_type": "stream",
                    "text": "June has 30 days.\nJuly has 31 days.\n"
                }
            ],
            "source": "# Months and Days\n\ndef month_days(month, days):\n    result = f\"{month} has {days} days.\"\n    return (result)\nprint (month_days(\"June\", 30))\nprint (month_days(\"July\", 31))"
        },
        {
            "cell_type": "code",
            "execution_count": 7,
            "metadata": {},
            "outputs": [
                {
                    "name": "stdout",
                    "output_type": "stream",
                    "text": "201.0624\n"
                }
            ],
            "source": "# defining area of circle\n\ndef circle_area(radius):\n    pi = 3.1416\n    area = pi * (radius ** 2)\n    print(area)\ncircle_area(8)"
        },
        {
            "cell_type": "code",
            "execution_count": 9,
            "metadata": {},
            "outputs": [
                {
                    "name": "stdout",
                    "output_type": "stream",
                    "text": "The area is 30\n"
                }
            ],
            "source": "#defineing area of rectangle\n\ndef rectangle_area(base, height):\n    area = base*height  # the area is base*height\n    print(\"The area is \" + str(area))\nrectangle_area(5,6)"
        },
        {
            "cell_type": "code",
            "execution_count": 10,
            "metadata": {},
            "outputs": [
                {
                    "name": "stdout",
                    "output_type": "stream",
                    "text": "Each person needs to pay: 27.186\n"
                }
            ],
            "source": "#In this scenario, two friends are eating dinner at a restaurant.\n#The bill comes in the amount of 47.28 dollars.\n#The friends decide to split the bill evenly between them, after adding 15% tip for the service.\n#Calculate the tip, the total amount to pay, and each friend's share, then output a message saying \"Each person needs to pay: \" followed by the resulting number.\n\nbill = 47.28\ntip = bill * (15/100)\ntotal = bill + tip\nshare = total/2 \nprint(\"Each person needs to pay: \"+str(share))"
        },
        {
            "cell_type": "code",
            "execution_count": 2,
            "metadata": {},
            "outputs": [
                {
                    "name": "stdout",
                    "output_type": "stream",
                    "text": "Welcome back Taylor!\nHello there, John\n"
                }
            ],
            "source": "#Defining function with if elif else\n\ndef greeting(name):\n  if name == \"Taylor\":\n    return \"Welcome back Taylor!\"\n  else:\n    return \"Hello there, \" + name\n\nprint(greeting(\"Taylor\"))\nprint(greeting(\"John\"))"
        },
        {
            "cell_type": "code",
            "execution_count": null,
            "metadata": {},
            "outputs": [],
            "source": ""
        }
    ],
    "metadata": {
        "kernelspec": {
            "display_name": "Python 3.6",
            "language": "python",
            "name": "python3"
        },
        "language_info": {
            "codemirror_mode": {
                "name": "ipython",
                "version": 3
            },
            "file_extension": ".py",
            "mimetype": "text/x-python",
            "name": "python",
            "nbconvert_exporter": "python",
            "pygments_lexer": "ipython3",
            "version": "3.6.9"
        }
    },
    "nbformat": 4,
    "nbformat_minor": 1
}