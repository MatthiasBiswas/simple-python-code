{
    "cells": [
        {
            "cell_type": "markdown",
            "metadata": {
                "collapsed": true
            },
            "source": "# simple python code\n"
        },
        {
            "cell_type": "code",
            "execution_count": 1,
            "metadata": {},
            "outputs": [
                {
                    "name": "stdout",
                    "output_type": "stream",
                    "text": "Welcome Matthias!!!\n"
                }
            ],
            "source": "def greeting(name):\n    print(\"Welcome \"+name)\nresult = greeting(\"Matthias!!!\")"
        },
        {
            "cell_type": "code",
            "execution_count": 2,
            "metadata": {},
            "outputs": [
                {
                    "name": "stdout",
                    "output_type": "stream",
                    "text": "the area is: 34.0\n"
                }
            ],
            "source": "# area of a triangle\n\ndef area_triangle(base, height):\n    return (base * height)/2\n\narea_a = area_triangle(7,2)\narea_b = area_triangle(9,6)\narea_sum = area_a + area_b\nprint(\"the area is: \" + str(area_sum))"
        },
        {
            "cell_type": "code",
            "execution_count": 3,
            "metadata": {},
            "outputs": [
                {
                    "name": "stdout",
                    "output_type": "stream",
                    "text": "hours: 1 \nminutes: 23 \nseconds: 20\n"
                }
            ],
            "source": "# convert seconds\n\ndef convert_seconds(seconds):\n    hours = seconds // 3600\n    minutes = (seconds - hours * 3600) // 60\n    remaining_seconds = seconds - hours * 3600 - minutes * 60\n    return hours, minutes, remaining_seconds\n\nhours, minutes, seconds = convert_seconds(5000)\nprint(\"hours: \"+str(hours), \"\\nminutes: \"+str(minutes), \"\\nseconds: \"+str(seconds))"
        },
        {
            "cell_type": "code",
            "execution_count": 4,
            "metadata": {},
            "outputs": [
                {
                    "name": "stdout",
                    "output_type": "stream",
                    "text": "June has 30 days.\nJuly has 31 days.\n"
                }
            ],
            "source": "# Months and Days\n\ndef month_days(month, days):\n    result = f\"{month} has {days} days.\"\n    return (result)\nprint (month_days(\"June\", 30))\nprint (month_days(\"July\", 31))"
        }
    ],
    "metadata": {
        "kernelspec": {
            "display_name": "Python 3.6",
            "language": "python",
            "name": "python3"
        },
        "language_info": {
            "codemirror_mode": {
                "name": "ipython",
                "version": 3
            },
            "file_extension": ".py",
            "mimetype": "text/x-python",
            "name": "python",
            "nbconvert_exporter": "python",
            "pygments_lexer": "ipython3",
            "version": "3.6.9"
        }
    },
    "nbformat": 4,
    "nbformat_minor": 1
}