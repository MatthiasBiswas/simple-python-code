{
    "cells": [
        {
            "metadata": {
                "collapsed": true
            },
            "cell_type": "markdown",
            "source": "# simple python code\nCoursera courses: \nIT Automation With Python\n01: Crash Course Python\n"
        },
        {
            "metadata": {},
            "cell_type": "code",
            "source": "def greeting(name):\n    print(\"Welcome \"+name)\nresult = greeting(\"Matthias!!!\")",
            "execution_count": 1,
            "outputs": [
                {
                    "output_type": "stream",
                    "text": "Welcome Matthias!!!\n",
                    "name": "stdout"
                }
            ]
        },
        {
            "metadata": {},
            "cell_type": "code",
            "source": "# area of a triangle\n\ndef area_triangle(base, height):\n    return (base * height)/2\n\narea_a = area_triangle(7,2)\narea_b = area_triangle(9,6)\narea_sum = area_a + area_b\nprint(\"the area is: \" + str(area_sum))",
            "execution_count": 2,
            "outputs": [
                {
                    "output_type": "stream",
                    "text": "the area is: 34.0\n",
                    "name": "stdout"
                }
            ]
        },
        {
            "metadata": {},
            "cell_type": "code",
            "source": "# convert seconds\n\ndef convert_seconds(seconds):\n    hours = seconds // 3600\n    minutes = (seconds - hours * 3600) // 60\n    remaining_seconds = seconds - hours * 3600 - minutes * 60\n    return hours, minutes, remaining_seconds\n\nhours, minutes, seconds = convert_seconds(5000)\nprint(\"hours: \"+str(hours), \"\\nminutes: \"+str(minutes), \"\\nseconds: \"+str(seconds))",
            "execution_count": 3,
            "outputs": [
                {
                    "output_type": "stream",
                    "text": "hours: 1 \nminutes: 23 \nseconds: 20\n",
                    "name": "stdout"
                }
            ]
        },
        {
            "metadata": {},
            "cell_type": "code",
            "source": "# Months and Days\n\ndef month_days(month, days):\n    result = f\"{month} has {days} days.\"\n    return (result)\nprint (month_days(\"June\", 30))\nprint (month_days(\"July\", 31))",
            "execution_count": 5,
            "outputs": [
                {
                    "output_type": "stream",
                    "text": "June has 30 days.\nJuly has 31 days.\n",
                    "name": "stdout"
                }
            ]
        },
        {
            "metadata": {},
            "cell_type": "code",
            "source": "# defining area of circle\n\ndef circle_area(radius):\n    pi = 3.1416\n    area = pi * (radius ** 2)\n    print(area)\ncircle_area(8)",
            "execution_count": 7,
            "outputs": [
                {
                    "output_type": "stream",
                    "text": "201.0624\n",
                    "name": "stdout"
                }
            ]
        },
        {
            "metadata": {},
            "cell_type": "code",
            "source": "#defineing area of rectangle\n\ndef rectangle_area(base, height):\n    area = base*height  # the area is base*height\n    print(\"The area is \" + str(area))\nrectangle_area(5,6)",
            "execution_count": 9,
            "outputs": [
                {
                    "output_type": "stream",
                    "text": "The area is 30\n",
                    "name": "stdout"
                }
            ]
        },
        {
            "metadata": {},
            "cell_type": "code",
            "source": "#In this scenario, two friends are eating dinner at a restaurant.\n#The bill comes in the amount of 47.28 dollars.\n#The friends decide to split the bill evenly between them, after adding 15% tip for the service.\n#Calculate the tip, the total amount to pay, and each friend's share, then output a message saying \"Each person needs to pay: \" followed by the resulting number.\n\nbill = 47.28\ntip = bill * (15/100)\ntotal = bill + tip\nshare = total/2 \nprint(\"Each person needs to pay: \"+str(share))",
            "execution_count": 10,
            "outputs": [
                {
                    "output_type": "stream",
                    "text": "Each person needs to pay: 27.186\n",
                    "name": "stdout"
                }
            ]
        },
        {
            "metadata": {},
            "cell_type": "code",
            "source": "#Defining function with if elif else\n\ndef greeting(name):\n      if name == \"Taylor\":\n    return \"Welcome back Taylor!\"\n  else:\n    return \"Hello there, \" + name\n\nprint(greeting(\"Taylor\"))\nprint(greeting(\"John\"))",
            "execution_count": 2,
            "outputs": [
                {
                    "output_type": "stream",
                    "text": "Welcome back Taylor!\nHello there, John\n",
                    "name": "stdout"
                }
            ]
        },
        {
            "metadata": {},
            "cell_type": "code",
            "source": "# If a filesystem has a block size of 4096 bytes, \n# this means that a file comprised of only one byte will still use 4096 bytes of storage. \n# A file made up of 4097 bytes will use 4096*2=8192 bytes of storage. \n# Knowing this, can you fill in the gaps in the calculate_storage function below, which calculates the total number of bytes needed to store a file of a given size?\n\ndef calculate_storage(filesize):\n    block_size = 4096\n    # Use floor division to calculate how many blocks are fully occupied\n    full_blocks = filesize // block_size\n    # Use the modulo operator to check whether there's any remainder\n    partial_block_remainder = filesize % block_size\n    # Depending on whether there's a remainder or not, return\n    # the total number of bytes required to allocate enough blocks\n    # to store your data.\n    if partial_block_remainder > 0:\n        return (full_blocks + 1) * block_size\n    return filesize\n\nprint(calculate_storage(1))    # Should be 4096\nprint(calculate_storage(4096)) # Should be 4096\nprint(calculate_storage(4097)) # Should be 8192\nprint(calculate_storage(6000)) # Should be 8192",
            "execution_count": 4,
            "outputs": [
                {
                    "output_type": "stream",
                    "text": "4096\n4096\n8192\n8192\n",
                    "name": "stdout"
                }
            ]
        },
        {
            "metadata": {},
            "cell_type": "code",
            "source": "#Problem: This function converts miles to kilometers (km).\n\n#1. Complete the function to return the result of the conversion\n#2. Call the function to convert the trip distance from miles to kilometers\n#3. Fill in the blank to print the result of the conversion\n#4. Calculate the round-trip in kilometers by doubling the result, and fill in the blank to print the result\n\n# 1) Complete the function to return the result of the conversion\ndef convert_distance(miles):\n\tkm = miles * 1.6  # approximately 1.6 km in 1 mile\n\treturn km\n\nmy_trip_miles = 55\n\n# 2) Convert my_trip_miles to kilometers by calling the function above\nmy_trip_km = convert_distance(my_trip_miles)\n\n# 3) Fill in the blank to print the result of the conversion\nprint(\"The distance in kilometers is \" + str(my_trip_km))\n\n# 4) Calculate the round-trip in kilometers by doubling the result,\n#    and fill in the blank to print the result\nprint(\"The round-trip in kilometers is \" + str(2.0*my_trip_km))",
            "execution_count": 5,
            "outputs": [
                {
                    "output_type": "stream",
                    "text": "The distance in kilometers is 88.0\nThe round-trip in kilometers is 176.0\n",
                    "name": "stdout"
                }
            ]
        },
        {
            "metadata": {},
            "cell_type": "code",
            "source": "#This function compares two numbers and returns them in increasing order.\n\n#Fill in the blanks, so the print statement displays the result of the function call in order.\n#Hint: if a function returns multiple values, don't forget to store these values in multiple variables\n\ndef order_numbers(number1, number2):\n\tif number2 > number1:\n\t\treturn number1, number2\n\telse:\n\t\treturn number2, number1\n\n# 1) Fill in the blanks so the print statement displays the result\n#    of the function call\nsmaller, bigger = order_numbers(100, 99)\nprint(smaller, bigger)",
            "execution_count": 2,
            "outputs": [
                {
                    "output_type": "stream",
                    "text": "99 100\n",
                    "name": "stdout"
                }
            ]
        },
        {
            "metadata": {},
            "cell_type": "code",
            "source": "#Let's revisit our lucky_number function. We want to change it, so that instead of printing the message, it returns the message. This way, the calling line can print the message, or do something else with it if needed. Fill in the blanks to complete the code to make it work.\n\ndef lucky_number(name):\n  number = len(name) * 9\n  message = \"Hello \" + name + \". Your lucky number is \" + str(number)\n  return message   \nprint(lucky_number(\"Kay\"))\nprint(lucky_number(\"Cameron\"))",
            "execution_count": 5,
            "outputs": [
                {
                    "output_type": "stream",
                    "text": "Hello Kay. Your lucky number is 27\nHello Cameron. Your lucky number is 63\n",
                    "name": "stdout"
                }
            ]
        },
        {
            "metadata": {},
            "cell_type": "markdown",
            "source": "# Self Practice\nPython"
        },
        {
            "metadata": {},
            "cell_type": "code",
            "source": "def greeting():\n    print(\"Hello\")\n    print(\"madafaka\")\ngreeting()",
            "execution_count": 8,
            "outputs": [
                {
                    "output_type": "stream",
                    "text": "Hello\nmadafaka\n",
                    "name": "stdout"
                }
            ]
        },
        {
            "metadata": {},
            "cell_type": "code",
            "source": "a = \"Hello\"\nb = 99\nc = a+str(b)\nprint (c)\n#print(type(a))\n#print(type(b))\nprint(type(c))",
            "execution_count": 7,
            "outputs": [
                {
                    "output_type": "stream",
                    "text": "Hello99\n<class 'str'>\n",
                    "name": "stdout"
                }
            ]
        },
        {
            "metadata": {},
            "cell_type": "code",
            "source": "list = [12,45,87,54,98,56,19,3,46]\nlist.sort()\nprint(list)\nlist.reverse()\nprint(list)\nmaximum = max(list)\nprint(maximum)\nminimum = min(list)\nprint(minimum)",
            "execution_count": 16,
            "outputs": [
                {
                    "output_type": "stream",
                    "text": "[3, 12, 19, 45, 46, 54, 56, 87, 98]\n[98, 87, 56, 54, 46, 45, 19, 12, 3]\n98\n3\n",
                    "name": "stdout"
                }
            ]
        },
        {
            "metadata": {},
            "cell_type": "code",
            "source": "def color_translator(color):\n\tif color == \"red\":\n\t\treturn \"#ff0000\"\n\telif color == \"green\":\n\t\treturn \"#00ff00\"\n\telif color == \"blue\":\n\t\treturn \"#0000ff\"\n\telse:\n\t\treturn \"unknown\"\n\treturn color\n\nprint(color_translator(\"blue\")) # Should be #0000ff\nprint(color_translator(\"yellow\")) # Should be unknown\nprint(color_translator(\"red\")) # Should be #ff0000\nprint(color_translator(\"black\")) # Should be unknown\nprint(color_translator(\"green\")) # Should be #00ff00\nprint(color_translator(\"\")) # Should be unknown",
            "execution_count": 13,
            "outputs": [
                {
                    "output_type": "stream",
                    "text": "#0000ff\nunknown\n#ff0000\nunknown\n#00ff00\nunknown\n",
                    "name": "stdout"
                }
            ]
        },
        {
            "metadata": {},
            "cell_type": "code",
            "source": "#The longest_word function is used to compare 3 words. \n#It should return the word with the most number of characters (and the first in the list when they have the same length). \n#Fill in the blank to make this happen.\n\ndef longest_word(word1, word2, word3):\n\tif len(word1) >= len(word2) and len(word1) >= len(word3):\n\t\tword = word1\n\telif len(word1)<=len(word2) and len(word2)>=len(word3):\n\t\tword = word2\n\telse:\n\t\tword = word3\n\treturn(word)\n\nprint(longest_word(\"chair\", \"couch\", \"table\"))\nprint(longest_word(\"bed\", \"bath\", \"beyond\"))\nprint(longest_word(\"laptop\", \"notebook\", \"desktop\"))\n\n",
            "execution_count": 10,
            "outputs": [
                {
                    "output_type": "stream",
                    "text": "chair\nbeyond\nnotebook\n",
                    "name": "stdout"
                }
            ]
        },
        {
            "metadata": {},
            "cell_type": "code",
            "source": "#The fractional_part function divides the numerator by the denominator, and returns just the fractional part (a number between 0 and 1). \n#Complete the body of the function so that it returns the right number. \n#Note: Since division by 0 produces an error, if the denominator is 0, the function should return 0 instead of attempting the division.\n\ndef fractional_part(numerator, denominator):\n\t# Operate with numerator and denominator to \n# keep just the fractional part of the quotient\n\tif numerator==0 or denominator==0:\n\t\treturn 0\n\telse:\n\t\tfractional=(numerator/denominator)-(numerator//denominator)\n\t\treturn fractional\n\nprint(fractional_part(5, 5)) # Should be 0\nprint(fractional_part(5, 4)) # Should be 0.25\nprint(fractional_part(5, 3)) # Should be 0.66...\nprint(fractional_part(5, 2)) # Should be 0.5\nprint(fractional_part(5, 0)) # Should be 0\nprint(fractional_part(0, 5)) # Should be 0",
            "execution_count": 11,
            "outputs": [
                {
                    "output_type": "stream",
                    "text": "0.0\n0.25\n0.6666666666666667\n0.5\n0\n0\n",
                    "name": "stdout"
                }
            ]
        },
        {
            "metadata": {},
            "cell_type": "code",
            "source": "keys = ['Ujjol','Mita','Pranto']\nvalues = ['WorldVision','HouseWife','Student']\ndata = dict(zip(keys,values))\nprint(data)\ndata['Matthias'] = 'goru'\nprint(data)\ndel data['Matthias']\nprint(data)",
            "execution_count": 7,
            "outputs": [
                {
                    "output_type": "stream",
                    "text": "{'Ujjol': 'WorldVision', 'Mita': 'HouseWife', 'Pranto': 'Student'}\n{'Ujjol': 'WorldVision', 'Mita': 'HouseWife', 'Pranto': 'Student', 'Matthias': 'goru'}\n{'Ujjol': 'WorldVision', 'Mita': 'HouseWife', 'Pranto': 'Student'}\n",
                    "name": "stdout"
                }
            ]
        },
        {
            "metadata": {},
            "cell_type": "code",
            "source": "def my_func(n1, n2): \n    return n1 + n2 \nmy_func(1, 2, 3)",
            "execution_count": 3,
            "outputs": [
                {
                    "output_type": "error",
                    "ename": "TypeError",
                    "evalue": "my_func() takes 2 positional arguments but 3 were given",
                    "traceback": [
                        "\u001b[0;31m---------------------------------------------------------------------------\u001b[0m",
                        "\u001b[0;31mTypeError\u001b[0m                                 Traceback (most recent call last)",
                        "\u001b[0;32m<ipython-input-3-7b2db4537258>\u001b[0m in \u001b[0;36m<module>\u001b[0;34m\u001b[0m\n\u001b[1;32m      1\u001b[0m \u001b[0;32mdef\u001b[0m \u001b[0mmy_func\u001b[0m\u001b[0;34m(\u001b[0m\u001b[0mn1\u001b[0m\u001b[0;34m,\u001b[0m \u001b[0mn2\u001b[0m\u001b[0;34m)\u001b[0m\u001b[0;34m:\u001b[0m\u001b[0;34m\u001b[0m\u001b[0;34m\u001b[0m\u001b[0m\n\u001b[1;32m      2\u001b[0m     \u001b[0;32mreturn\u001b[0m \u001b[0mn1\u001b[0m \u001b[0;34m+\u001b[0m \u001b[0mn2\u001b[0m\u001b[0;34m\u001b[0m\u001b[0;34m\u001b[0m\u001b[0m\n\u001b[0;32m----> 3\u001b[0;31m \u001b[0mmy_func\u001b[0m\u001b[0;34m(\u001b[0m\u001b[0;36m1\u001b[0m\u001b[0;34m,\u001b[0m \u001b[0;36m2\u001b[0m\u001b[0;34m,\u001b[0m \u001b[0;36m3\u001b[0m\u001b[0;34m)\u001b[0m\u001b[0;34m\u001b[0m\u001b[0;34m\u001b[0m\u001b[0m\n\u001b[0m",
                        "\u001b[0;31mTypeError\u001b[0m: my_func() takes 2 positional arguments but 3 were given"
                    ]
                }
            ]
        },
        {
            "metadata": {},
            "cell_type": "code",
            "source": "datetime(1970, 1, 1).strftime ('%Y-%d-%B')",
            "execution_count": 5,
            "outputs": [
                {
                    "output_type": "error",
                    "ename": "NameError",
                    "evalue": "name 'datetime' is not defined",
                    "traceback": [
                        "\u001b[0;31m---------------------------------------------------------------------------\u001b[0m",
                        "\u001b[0;31mNameError\u001b[0m                                 Traceback (most recent call last)",
                        "\u001b[0;32m<ipython-input-5-70eb0bc0e800>\u001b[0m in \u001b[0;36m<module>\u001b[0;34m\u001b[0m\n\u001b[0;32m----> 1\u001b[0;31m \u001b[0mdatetime\u001b[0m\u001b[0;34m(\u001b[0m\u001b[0;36m1970\u001b[0m\u001b[0;34m,\u001b[0m \u001b[0;36m1\u001b[0m\u001b[0;34m,\u001b[0m \u001b[0;36m1\u001b[0m\u001b[0;34m)\u001b[0m\u001b[0;34m.\u001b[0m\u001b[0mstrftime\u001b[0m \u001b[0;34m(\u001b[0m\u001b[0;34m'%Y-%d-%B'\u001b[0m\u001b[0;34m)\u001b[0m\u001b[0;34m\u001b[0m\u001b[0;34m\u001b[0m\u001b[0m\n\u001b[0m",
                        "\u001b[0;31mNameError\u001b[0m: name 'datetime' is not defined"
                    ]
                }
            ]
        },
        {
            "metadata": {},
            "cell_type": "code",
            "source": "#Data frame with pandas with dictionaries....\n\nimport pandas as pd\n\nsongs = {'Album' :['Thriller','Back in Black','The Dark Side of The Moon','The Bodygaurd','Bat Out of Hell'],'Released' :[1982,1980,1973,1992,1977], 'Length' :['00:42:19','00:42:11','00:42:49','00:57:44','00:46:33']}\nsong_frame = pd.DataFrame(songs)\nprint(song_frame)\ndf = pd.DataFrame(songs)\nx = df[['Length','Released']]\nprint(x)\n",
            "execution_count": 25,
            "outputs": [
                {
                    "output_type": "stream",
                    "text": "                       Album  Released    Length\n0                   Thriller      1982  00:42:19\n1              Back in Black      1980  00:42:11\n2  The Dark Side of The Moon      1973  00:42:49\n3              The Bodygaurd      1992  00:57:44\n4            Bat Out of Hell      1977  00:46:33\n     Length  Released\n0  00:42:19      1982\n1  00:42:11      1980\n2  00:42:49      1973\n3  00:57:44      1992\n4  00:46:33      1977\n",
                    "name": "stdout"
                }
            ]
        },
        {
            "metadata": {},
            "cell_type": "code",
            "source": "",
            "execution_count": null,
            "outputs": []
        }
    ],
    "metadata": {
        "kernelspec": {
            "name": "python3",
            "display_name": "Python 3.6",
            "language": "python"
        },
        "language_info": {
            "name": "python",
            "version": "3.6.9",
            "mimetype": "text/x-python",
            "codemirror_mode": {
                "name": "ipython",
                "version": 3
            },
            "pygments_lexer": "ipython3",
            "nbconvert_exporter": "python",
            "file_extension": ".py"
        }
    },
    "nbformat": 4,
    "nbformat_minor": 1
}