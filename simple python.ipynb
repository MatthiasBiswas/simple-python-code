{
    "cells": [
        {
            "metadata": {
                "collapsed": true
            },
            "cell_type": "markdown",
            "source": "# simple python code\nCoursera courses: \nIT Automation With Python\n01: Crash Course Python\n"
        },
        {
            "metadata": {},
            "cell_type": "code",
            "source": "def greeting(name):\n    print(\"Welcome \"+name)\nresult = greeting(\"Matthias!!!\")",
            "execution_count": 1,
            "outputs": [
                {
                    "output_type": "stream",
                    "text": "Welcome Matthias!!!\n",
                    "name": "stdout"
                }
            ]
        },
        {
            "metadata": {},
            "cell_type": "code",
            "source": "# area of a triangle\n\ndef area_triangle(base, height):\n    return (base * height)/2\n\narea_a = area_triangle(7,2)\narea_b = area_triangle(9,6)\narea_sum = area_a + area_b\nprint(\"the area is: \" + str(area_sum))",
            "execution_count": 2,
            "outputs": [
                {
                    "output_type": "stream",
                    "text": "the area is: 34.0\n",
                    "name": "stdout"
                }
            ]
        },
        {
            "metadata": {},
            "cell_type": "code",
            "source": "# convert seconds\n\ndef convert_seconds(seconds):\n    hours = seconds // 3600\n    minutes = (seconds - hours * 3600) // 60\n    remaining_seconds = seconds - hours * 3600 - minutes * 60\n    return hours, minutes, remaining_seconds\n\nhours, minutes, seconds = convert_seconds(5000)\nprint(\"hours: \"+str(hours), \"\\nminutes: \"+str(minutes), \"\\nseconds: \"+str(seconds))",
            "execution_count": 3,
            "outputs": [
                {
                    "output_type": "stream",
                    "text": "hours: 1 \nminutes: 23 \nseconds: 20\n",
                    "name": "stdout"
                }
            ]
        },
        {
            "metadata": {},
            "cell_type": "code",
            "source": "# Months and Days\n\ndef month_days(month, days):\n    result = f\"{month} has {days} days.\"\n    return (result)\nprint (month_days(\"June\", 30))\nprint (month_days(\"July\", 31))",
            "execution_count": 5,
            "outputs": [
                {
                    "output_type": "stream",
                    "text": "June has 30 days.\nJuly has 31 days.\n",
                    "name": "stdout"
                }
            ]
        },
        {
            "metadata": {},
            "cell_type": "code",
            "source": "# defining area of circle\n\ndef circle_area(radius):\n    pi = 3.1416\n    area = pi * (radius ** 2)\n    print(area)\ncircle_area(8)",
            "execution_count": 7,
            "outputs": [
                {
                    "output_type": "stream",
                    "text": "201.0624\n",
                    "name": "stdout"
                }
            ]
        },
        {
            "metadata": {},
            "cell_type": "code",
            "source": "#defineing area of rectangle\n\ndef rectangle_area(base, height):\n    area = base*height  # the area is base*height\n    print(\"The area is \" + str(area))\nrectangle_area(5,6)",
            "execution_count": 9,
            "outputs": [
                {
                    "output_type": "stream",
                    "text": "The area is 30\n",
                    "name": "stdout"
                }
            ]
        },
        {
            "metadata": {},
            "cell_type": "code",
            "source": "#In this scenario, two friends are eating dinner at a restaurant.\n#The bill comes in the amount of 47.28 dollars.\n#The friends decide to split the bill evenly between them, after adding 15% tip for the service.\n#Calculate the tip, the total amount to pay, and each friend's share, then output a message saying \"Each person needs to pay: \" followed by the resulting number.\n\nbill = 47.28\ntip = bill * (15/100)\ntotal = bill + tip\nshare = total/2 \nprint(\"Each person needs to pay: \"+str(share))",
            "execution_count": 10,
            "outputs": [
                {
                    "output_type": "stream",
                    "text": "Each person needs to pay: 27.186\n",
                    "name": "stdout"
                }
            ]
        },
        {
            "metadata": {},
            "cell_type": "code",
            "source": "#Defining function with if elif else\n\ndef greeting(name):\n      if name == \"Taylor\":\n    return \"Welcome back Taylor!\"\n  else:\n    return \"Hello there, \" + name\n\nprint(greeting(\"Taylor\"))\nprint(greeting(\"John\"))",
            "execution_count": 2,
            "outputs": [
                {
                    "output_type": "stream",
                    "text": "Welcome back Taylor!\nHello there, John\n",
                    "name": "stdout"
                }
            ]
        },
        {
            "metadata": {},
            "cell_type": "code",
            "source": "# If a filesystem has a block size of 4096 bytes, \n# this means that a file comprised of only one byte will still use 4096 bytes of storage. \n# A file made up of 4097 bytes will use 4096*2=8192 bytes of storage. \n# Knowing this, can you fill in the gaps in the calculate_storage function below, which calculates the total number of bytes needed to store a file of a given size?\n\ndef calculate_storage(filesize):\n    block_size = 4096\n    # Use floor division to calculate how many blocks are fully occupied\n    full_blocks = filesize // block_size\n    # Use the modulo operator to check whether there's any remainder\n    partial_block_remainder = filesize % block_size\n    # Depending on whether there's a remainder or not, return\n    # the total number of bytes required to allocate enough blocks\n    # to store your data.\n    if partial_block_remainder > 0:\n        return (full_blocks + 1) * block_size\n    return filesize\n\nprint(calculate_storage(1))    # Should be 4096\nprint(calculate_storage(4096)) # Should be 4096\nprint(calculate_storage(4097)) # Should be 8192\nprint(calculate_storage(6000)) # Should be 8192",
            "execution_count": 4,
            "outputs": [
                {
                    "output_type": "stream",
                    "text": "4096\n4096\n8192\n8192\n",
                    "name": "stdout"
                }
            ]
        },
        {
            "metadata": {},
            "cell_type": "code",
            "source": "#Problem: This function converts miles to kilometers (km).\n\n#1. Complete the function to return the result of the conversion\n#2. Call the function to convert the trip distance from miles to kilometers\n#3. Fill in the blank to print the result of the conversion\n#4. Calculate the round-trip in kilometers by doubling the result, and fill in the blank to print the result\n\n# 1) Complete the function to return the result of the conversion\ndef convert_distance(miles):\n\tkm = miles * 1.6  # approximately 1.6 km in 1 mile\n\treturn km\n\nmy_trip_miles = 55\n\n# 2) Convert my_trip_miles to kilometers by calling the function above\nmy_trip_km = convert_distance(my_trip_miles)\n\n# 3) Fill in the blank to print the result of the conversion\nprint(\"The distance in kilometers is \" + str(my_trip_km))\n\n# 4) Calculate the round-trip in kilometers by doubling the result,\n#    and fill in the blank to print the result\nprint(\"The round-trip in kilometers is \" + str(2.0*my_trip_km))",
            "execution_count": 5,
            "outputs": [
                {
                    "output_type": "stream",
                    "text": "The distance in kilometers is 88.0\nThe round-trip in kilometers is 176.0\n",
                    "name": "stdout"
                }
            ]
        },
        {
            "metadata": {},
            "cell_type": "code",
            "source": "#This function compares two numbers and returns them in increasing order.\n\n#Fill in the blanks, so the print statement displays the result of the function call in order.\n#Hint: if a function returns multiple values, don't forget to store these values in multiple variables\n\ndef order_numbers(number1, number2):\n\tif number2 > number1:\n\t\treturn number1, number2\n\telse:\n\t\treturn number2, number1\n\n# 1) Fill in the blanks so the print statement displays the result\n#    of the function call\nsmaller, bigger = order_numbers(100, 99)\nprint(smaller, bigger)",
            "execution_count": 2,
            "outputs": [
                {
                    "output_type": "stream",
                    "text": "99 100\n",
                    "name": "stdout"
                }
            ]
        },
        {
            "metadata": {},
            "cell_type": "code",
            "source": "#Let's revisit our lucky_number function. We want to change it, so that instead of printing the message, it returns the message. This way, the calling line can print the message, or do something else with it if needed. Fill in the blanks to complete the code to make it work.\n\ndef lucky_number(name):\n  number = len(name) * 9\n  message = \"Hello \" + name + \". Your lucky number is \" + str(number)\n  return message   \nprint(lucky_number(\"Kay\"))\nprint(lucky_number(\"Cameron\"))",
            "execution_count": 5,
            "outputs": [
                {
                    "output_type": "stream",
                    "text": "Hello Kay. Your lucky number is 27\nHello Cameron. Your lucky number is 63\n",
                    "name": "stdout"
                }
            ]
        },
        {
            "metadata": {},
            "cell_type": "markdown",
            "source": "# Self Practice\nPython"
        },
        {
            "metadata": {},
            "cell_type": "code",
            "source": "def greeting():\n    print(\"Hello\")\n    print(\"madafaka\")\ngreeting()",
            "execution_count": 8,
            "outputs": [
                {
                    "output_type": "stream",
                    "text": "Hello\nmadafaka\n",
                    "name": "stdout"
                }
            ]
        },
        {
            "metadata": {},
            "cell_type": "code",
            "source": "a = \"Hello\"\nb = 99\nc = a+str(b)\nprint (c)\n#print(type(a))\n#print(type(b))\nprint(type(c))",
            "execution_count": 7,
            "outputs": [
                {
                    "output_type": "stream",
                    "text": "Hello99\n<class 'str'>\n",
                    "name": "stdout"
                }
            ]
        },
        {
            "metadata": {},
            "cell_type": "code",
            "source": "list = [12,45,87,54,98,56,19,3,46]\nlist.sort()\nprint(list)\nlist.reverse()\nprint(list)\nmaximum = max(list)\nprint(maximum)\nminimum = min(list)\nprint(minimum)",
            "execution_count": 16,
            "outputs": [
                {
                    "output_type": "stream",
                    "text": "[3, 12, 19, 45, 46, 54, 56, 87, 98]\n[98, 87, 56, 54, 46, 45, 19, 12, 3]\n98\n3\n",
                    "name": "stdout"
                }
            ]
        },
        {
            "metadata": {},
            "cell_type": "code",
            "source": "def color_translator(color):\n\tif color == \"red\":\n\t\treturn \"#ff0000\"\n\telif color == \"green\":\n\t\treturn \"#00ff00\"\n\telif color == \"blue\":\n\t\treturn \"#0000ff\"\n\telse:\n\t\treturn \"unknown\"\n\treturn color\n\nprint(color_translator(\"blue\")) # Should be #0000ff\nprint(color_translator(\"yellow\")) # Should be unknown\nprint(color_translator(\"red\")) # Should be #ff0000\nprint(color_translator(\"black\")) # Should be unknown\nprint(color_translator(\"green\")) # Should be #00ff00\nprint(color_translator(\"\")) # Should be unknown",
            "execution_count": 13,
            "outputs": [
                {
                    "output_type": "stream",
                    "text": "#0000ff\nunknown\n#ff0000\nunknown\n#00ff00\nunknown\n",
                    "name": "stdout"
                }
            ]
        },
        {
            "metadata": {},
            "cell_type": "code",
            "source": "#The longest_word function is used to compare 3 words. \n#It should return the word with the most number of characters (and the first in the list when they have the same length). \n#Fill in the blank to make this happen.\n\ndef longest_word(word1, word2, word3):\n\tif len(word1) >= len(word2) and len(word1) >= len(word3):\n\t\tword = word1\n\telif len(word1)<=len(word2) and len(word2)>=len(word3):\n\t\tword = word2\n\telse:\n\t\tword = word3\n\treturn(word)\n\nprint(longest_word(\"chair\", \"couch\", \"table\"))\nprint(longest_word(\"bed\", \"bath\", \"beyond\"))\nprint(longest_word(\"laptop\", \"notebook\", \"desktop\"))\n\n",
            "execution_count": 10,
            "outputs": [
                {
                    "output_type": "stream",
                    "text": "chair\nbeyond\nnotebook\n",
                    "name": "stdout"
                }
            ]
        },
        {
            "metadata": {},
            "cell_type": "code",
            "source": "#The fractional_part function divides the numerator by the denominator, and returns just the fractional part (a number between 0 and 1). \n#Complete the body of the function so that it returns the right number. \n#Note: Since division by 0 produces an error, if the denominator is 0, the function should return 0 instead of attempting the division.\n\ndef fractional_part(numerator, denominator):\n\t# Operate with numerator and denominator to \n# keep just the fractional part of the quotient\n\tif numerator==0 or denominator==0:\n\t\treturn 0\n\telse:\n\t\tfractional=(numerator/denominator)-(numerator//denominator)\n\t\treturn fractional\n\nprint(fractional_part(5, 5)) # Should be 0\nprint(fractional_part(5, 4)) # Should be 0.25\nprint(fractional_part(5, 3)) # Should be 0.66...\nprint(fractional_part(5, 2)) # Should be 0.5\nprint(fractional_part(5, 0)) # Should be 0\nprint(fractional_part(0, 5)) # Should be 0",
            "execution_count": 11,
            "outputs": [
                {
                    "output_type": "stream",
                    "text": "0.0\n0.25\n0.6666666666666667\n0.5\n0\n0\n",
                    "name": "stdout"
                }
            ]
        },
        {
            "metadata": {},
            "cell_type": "code",
            "source": "keys = ['Ujjol','Mita','Pranto']\nvalues = ['WorldVision','HouseWife','Student']\ndata = dict(zip(keys,values))\nprint(data)\ndata['Matthias'] = 'goru'\nprint(data)\ndel data['Matthias']\nprint(data)",
            "execution_count": 7,
            "outputs": [
                {
                    "output_type": "stream",
                    "text": "{'Ujjol': 'WorldVision', 'Mita': 'HouseWife', 'Pranto': 'Student'}\n{'Ujjol': 'WorldVision', 'Mita': 'HouseWife', 'Pranto': 'Student', 'Matthias': 'goru'}\n{'Ujjol': 'WorldVision', 'Mita': 'HouseWife', 'Pranto': 'Student'}\n",
                    "name": "stdout"
                }
            ]
        },
        {
            "metadata": {},
            "cell_type": "code",
            "source": "def my_func(n1, n2): \n    return n1 + n2 \nmy_func(1, 2, 3)",
            "execution_count": 3,
            "outputs": [
                {
                    "output_type": "error",
                    "ename": "TypeError",
                    "evalue": "my_func() takes 2 positional arguments but 3 were given",
                    "traceback": [
                        "\u001b[0;31m---------------------------------------------------------------------------\u001b[0m",
                        "\u001b[0;31mTypeError\u001b[0m                                 Traceback (most recent call last)",
                        "\u001b[0;32m<ipython-input-3-7b2db4537258>\u001b[0m in \u001b[0;36m<module>\u001b[0;34m\u001b[0m\n\u001b[1;32m      1\u001b[0m \u001b[0;32mdef\u001b[0m \u001b[0mmy_func\u001b[0m\u001b[0;34m(\u001b[0m\u001b[0mn1\u001b[0m\u001b[0;34m,\u001b[0m \u001b[0mn2\u001b[0m\u001b[0;34m)\u001b[0m\u001b[0;34m:\u001b[0m\u001b[0;34m\u001b[0m\u001b[0;34m\u001b[0m\u001b[0m\n\u001b[1;32m      2\u001b[0m     \u001b[0;32mreturn\u001b[0m \u001b[0mn1\u001b[0m \u001b[0;34m+\u001b[0m \u001b[0mn2\u001b[0m\u001b[0;34m\u001b[0m\u001b[0;34m\u001b[0m\u001b[0m\n\u001b[0;32m----> 3\u001b[0;31m \u001b[0mmy_func\u001b[0m\u001b[0;34m(\u001b[0m\u001b[0;36m1\u001b[0m\u001b[0;34m,\u001b[0m \u001b[0;36m2\u001b[0m\u001b[0;34m,\u001b[0m \u001b[0;36m3\u001b[0m\u001b[0;34m)\u001b[0m\u001b[0;34m\u001b[0m\u001b[0;34m\u001b[0m\u001b[0m\n\u001b[0m",
                        "\u001b[0;31mTypeError\u001b[0m: my_func() takes 2 positional arguments but 3 were given"
                    ]
                }
            ]
        },
        {
            "metadata": {},
            "cell_type": "code",
            "source": "\nimport types\nimport pandas as pd\nfrom botocore.client import Config\nimport ibm_boto3\n\ndef __iter__(self): return 0\n\ndatetime(1970, 1, 1).strftime('%Y-%d-%B')",
            "execution_count": 33,
            "outputs": [
                {
                    "output_type": "error",
                    "ename": "NameError",
                    "evalue": "name 'datetime' is not defined",
                    "traceback": [
                        "\u001b[0;31m---------------------------------------------------------------------------\u001b[0m",
                        "\u001b[0;31mNameError\u001b[0m                                 Traceback (most recent call last)",
                        "\u001b[0;32m<ipython-input-33-22ef14b9b646>\u001b[0m in \u001b[0;36m<module>\u001b[0;34m\u001b[0m\n\u001b[1;32m      7\u001b[0m \u001b[0;32mdef\u001b[0m \u001b[0m__iter__\u001b[0m\u001b[0;34m(\u001b[0m\u001b[0mself\u001b[0m\u001b[0;34m)\u001b[0m\u001b[0;34m:\u001b[0m \u001b[0;32mreturn\u001b[0m \u001b[0;36m0\u001b[0m\u001b[0;34m\u001b[0m\u001b[0;34m\u001b[0m\u001b[0m\n\u001b[1;32m      8\u001b[0m \u001b[0;34m\u001b[0m\u001b[0m\n\u001b[0;32m----> 9\u001b[0;31m \u001b[0mdatetime\u001b[0m\u001b[0;34m(\u001b[0m\u001b[0;36m1970\u001b[0m\u001b[0;34m,\u001b[0m \u001b[0;36m1\u001b[0m\u001b[0;34m,\u001b[0m \u001b[0;36m1\u001b[0m\u001b[0;34m)\u001b[0m\u001b[0;34m.\u001b[0m\u001b[0mstrftime\u001b[0m\u001b[0;34m(\u001b[0m\u001b[0;34m'%Y-%d-%B'\u001b[0m\u001b[0;34m)\u001b[0m\u001b[0;34m\u001b[0m\u001b[0;34m\u001b[0m\u001b[0m\n\u001b[0m",
                        "\u001b[0;31mNameError\u001b[0m: name 'datetime' is not defined"
                    ]
                }
            ]
        },
        {
            "metadata": {},
            "cell_type": "code",
            "source": "#Data frame with pandas with dictionaries....\n\nimport pandas as pd\n\nsongs = {'Album' :['Thriller','Back in Black','The Dark Side of The Moon','The Bodygaurd','Bat Out of Hell'],'Released' :[1982,1980,1973,1992,1977], 'Length' :['00:42:19','00:42:11','00:42:49','00:57:44','00:46:33']}\nsong_frame = pd.DataFrame(songs)\nprint(song_frame)\ndf = pd.DataFrame(songs)\nx = df[['Length','Released']]\nprint(x)",
            "execution_count": 30,
            "outputs": [
                {
                    "output_type": "stream",
                    "text": "                       Album  Released    Length\n0                   Thriller      1982  00:42:19\n1              Back in Black      1980  00:42:11\n2  The Dark Side of The Moon      1973  00:42:49\n3              The Bodygaurd      1992  00:57:44\n4            Bat Out of Hell      1977  00:46:33\n     Length  Released\n0  00:42:19      1982\n1  00:42:11      1980\n2  00:42:49      1973\n3  00:57:44      1992\n4  00:46:33      1977\n",
                    "name": "stdout"
                }
            ]
        },
        {
            "metadata": {},
            "cell_type": "code",
            "source": "import types\nimport pandas as pd\nfrom botocore.client import Config\nimport ibm_boto3\n\ndef __iter__(self): return 0\n\n# @hidden_cell\n# The following code accesses a file in your IBM Cloud Object Storage. It includes your credentials.\n# You might want to remove those credentials before you share the notebook.\nclient_fd56643899e8447fbda0d1510ad4f283 = ibm_boto3.client(service_name='s3',\n    ibm_api_key_id='CT1KnEGnvMgGzyjM0Eq8v45py8UuBmKtxM3OGnjet5n0',\n    ibm_auth_endpoint=\"https://iam.cloud.ibm.com/oidc/token\",\n    config=Config(signature_version='oauth'),\n    endpoint_url='https://s3-api.us-geo.objectstorage.service.networklayer.com')\n\nbody = client_fd56643899e8447fbda0d1510ad4f283.get_object(Bucket='watsonfirstproject-donotdelete-pr-01v6abmqjyxcwr',Key='pokemon_data.csv')['Body']\n# add missing __iter__ method, so pandas accepts body as file-like object\nif not hasattr(body, \"__iter__\"): body.__iter__ = types.MethodType( __iter__, body )\n\ndf_data_1 = pd.read_csv(body)\nprint(df_data_1)\n",
            "execution_count": 36,
            "outputs": [
                {
                    "output_type": "stream",
                    "text": "       #                       Name    Type 1  Type 2   HP  Attack  Defense  \\\n0      1                  Bulbasaur     Grass  Poison   45      49       49   \n1      2                    Ivysaur     Grass  Poison   60      62       63   \n2      3                   Venusaur     Grass  Poison   80      82       83   \n3      3      VenusaurMega Venusaur     Grass  Poison   80     100      123   \n4      4                 Charmander      Fire     NaN   39      52       43   \n5      5                 Charmeleon      Fire     NaN   58      64       58   \n6      6                  Charizard      Fire  Flying   78      84       78   \n7      6  CharizardMega Charizard X      Fire  Dragon   78     130      111   \n8      6  CharizardMega Charizard Y      Fire  Flying   78     104       78   \n9      7                   Squirtle     Water     NaN   44      48       65   \n10     8                  Wartortle     Water     NaN   59      63       80   \n11     9                  Blastoise     Water     NaN   79      83      100   \n12     9    BlastoiseMega Blastoise     Water     NaN   79     103      120   \n13    10                   Caterpie       Bug     NaN   45      30       35   \n14    11                    Metapod       Bug     NaN   50      20       55   \n15    12                 Butterfree       Bug  Flying   60      45       50   \n16    13                     Weedle       Bug  Poison   40      35       30   \n17    14                     Kakuna       Bug  Poison   45      25       50   \n18    15                   Beedrill       Bug  Poison   65      90       40   \n19    15      BeedrillMega Beedrill       Bug  Poison   65     150       40   \n20    16                     Pidgey    Normal  Flying   40      45       40   \n21    17                  Pidgeotto    Normal  Flying   63      60       55   \n22    18                    Pidgeot    Normal  Flying   83      80       75   \n23    18        PidgeotMega Pidgeot    Normal  Flying   83      80       80   \n24    19                    Rattata    Normal     NaN   30      56       35   \n25    20                   Raticate    Normal     NaN   55      81       60   \n26    21                    Spearow    Normal  Flying   40      60       30   \n27    22                     Fearow    Normal  Flying   65      90       65   \n28    23                      Ekans    Poison     NaN   35      60       44   \n29    24                      Arbok    Poison     NaN   60      85       69   \n..   ...                        ...       ...     ...  ...     ...      ...   \n770  700                    Sylveon     Fairy     NaN   95      65       65   \n771  701                   Hawlucha  Fighting  Flying   78      92       75   \n772  702                    Dedenne  Electric   Fairy   67      58       57   \n773  703                    Carbink      Rock   Fairy   50      50      150   \n774  704                      Goomy    Dragon     NaN   45      50       35   \n775  705                    Sliggoo    Dragon     NaN   68      75       53   \n776  706                     Goodra    Dragon     NaN   90     100       70   \n777  707                     Klefki     Steel   Fairy   57      80       91   \n778  708                   Phantump     Ghost   Grass   43      70       48   \n779  709                  Trevenant     Ghost   Grass   85     110       76   \n780  710      PumpkabooAverage Size     Ghost   Grass   49      66       70   \n781  710        PumpkabooSmall Size     Ghost   Grass   44      66       70   \n782  710        PumpkabooLarge Size     Ghost   Grass   54      66       70   \n783  710        PumpkabooSuper Size     Ghost   Grass   59      66       70   \n784  711      GourgeistAverage Size     Ghost   Grass   65      90      122   \n785  711        GourgeistSmall Size     Ghost   Grass   55      85      122   \n786  711        GourgeistLarge Size     Ghost   Grass   75      95      122   \n787  711        GourgeistSuper Size     Ghost   Grass   85     100      122   \n788  712                   Bergmite       Ice     NaN   55      69       85   \n789  713                    Avalugg       Ice     NaN   95     117      184   \n790  714                     Noibat    Flying  Dragon   40      30       35   \n791  715                    Noivern    Flying  Dragon   85      70       80   \n792  716                    Xerneas     Fairy     NaN  126     131       95   \n793  717                    Yveltal      Dark  Flying  126     131       95   \n794  718           Zygarde50% Forme    Dragon  Ground  108     100      121   \n795  719                    Diancie      Rock   Fairy   50     100      150   \n796  719        DiancieMega Diancie      Rock   Fairy   50     160      110   \n797  720        HoopaHoopa Confined   Psychic   Ghost   80     110       60   \n798  720         HoopaHoopa Unbound   Psychic    Dark   80     160       60   \n799  721                  Volcanion      Fire   Water   80     110      120   \n\n     Sp. Atk  Sp. Def  Speed  Generation  Legendary  \n0         65       65     45           1      False  \n1         80       80     60           1      False  \n2        100      100     80           1      False  \n3        122      120     80           1      False  \n4         60       50     65           1      False  \n5         80       65     80           1      False  \n6        109       85    100           1      False  \n7        130       85    100           1      False  \n8        159      115    100           1      False  \n9         50       64     43           1      False  \n10        65       80     58           1      False  \n11        85      105     78           1      False  \n12       135      115     78           1      False  \n13        20       20     45           1      False  \n14        25       25     30           1      False  \n15        90       80     70           1      False  \n16        20       20     50           1      False  \n17        25       25     35           1      False  \n18        45       80     75           1      False  \n19        15       80    145           1      False  \n20        35       35     56           1      False  \n21        50       50     71           1      False  \n22        70       70    101           1      False  \n23       135       80    121           1      False  \n24        25       35     72           1      False  \n25        50       70     97           1      False  \n26        31       31     70           1      False  \n27        61       61    100           1      False  \n28        40       54     55           1      False  \n29        65       79     80           1      False  \n..       ...      ...    ...         ...        ...  \n770      110      130     60           6      False  \n771       74       63    118           6      False  \n772       81       67    101           6      False  \n773       50      150     50           6      False  \n774       55       75     40           6      False  \n775       83      113     60           6      False  \n776      110      150     80           6      False  \n777       80       87     75           6      False  \n778       50       60     38           6      False  \n779       65       82     56           6      False  \n780       44       55     51           6      False  \n781       44       55     56           6      False  \n782       44       55     46           6      False  \n783       44       55     41           6      False  \n784       58       75     84           6      False  \n785       58       75     99           6      False  \n786       58       75     69           6      False  \n787       58       75     54           6      False  \n788       32       35     28           6      False  \n789       44       46     28           6      False  \n790       45       40     55           6      False  \n791       97       80    123           6      False  \n792      131       98     99           6       True  \n793      131       98     99           6       True  \n794       81       95     95           6       True  \n795      100      150     50           6       True  \n796      160      110    110           6       True  \n797      150      130     70           6       True  \n798      170      130     80           6       True  \n799      130       90     70           6       True  \n\n[800 rows x 12 columns]\n",
                    "name": "stdout"
                }
            ]
        },
        {
            "metadata": {},
            "cell_type": "code",
            "source": "",
            "execution_count": null,
            "outputs": []
        }
    ],
    "metadata": {
        "kernelspec": {
            "name": "python3",
            "display_name": "Python 3.6",
            "language": "python"
        },
        "language_info": {
            "name": "python",
            "version": "3.6.9",
            "mimetype": "text/x-python",
            "codemirror_mode": {
                "name": "ipython",
                "version": 3
            },
            "pygments_lexer": "ipython3",
            "nbconvert_exporter": "python",
            "file_extension": ".py"
        }
    },
    "nbformat": 4,
    "nbformat_minor": 1
}